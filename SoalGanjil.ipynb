{
 "cells": [
  {
   "cell_type": "code",
   "execution_count": 1,
   "metadata": {},
   "outputs": [
    {
     "name": "stdout",
     "output_type": "stream",
     "text": [
      "False\n",
      "True\n"
     ]
    }
   ],
   "source": [
    "#Nomor 1\n",
    "def bukan_sepuluh(num1, num2):\n",
    "    return num1 + num2 != 10\n",
    "\n",
    "# Uncomment untuk menguji fungsi bukan_sepuluh\n",
    "print(bukan_sepuluh(9, 1))   # harus mencetak False\n",
    "print(bukan_sepuluh(9, -1))  # harus mencetak True\n"
   ]
  },
  {
   "cell_type": "code",
   "execution_count": 7,
   "metadata": {},
   "outputs": [
    {
     "name": "stdout",
     "output_type": "stream",
     "text": [
      "True\n",
      "False\n"
     ]
    }
   ],
   "source": [
    "#Nomor 3\n",
    "def daya_besar(base, eksponen):\n",
    "    if base ** eksponen > 5000:\n",
    "        return True\n",
    "    else:\n",
    "        return False\n",
    "\n",
    "# Uncomment untuk menguji fungsi daya_besar\n",
    "print(daya_besar(2, 13))  # harus mencetak True\n",
    "print(daya_besar(2, 12))  # harus mencetak False\n"
   ]
  },
  {
   "cell_type": "code",
   "execution_count": 8,
   "metadata": {},
   "outputs": [
    {
     "name": "stdout",
     "output_type": "stream",
     "text": [
      "2\n",
      "3\n"
     ]
    }
   ],
   "source": [
    "#Nomor 5\n",
    "def cari_karakter(kalimat, karakter):\n",
    "    count = 0\n",
    "    for char in kalimat:\n",
    "        if char == karakter:\n",
    "            count += 1\n",
    "    return count\n",
    "\n",
    "# Uncomment untuk menguji fungsi cari_karakter\n",
    "print(cari_karakter(\"hello world\", \"o\"))  # harus mencetak 2\n",
    "print(cari_karakter(\"hello world\", \"l\"))  # harus mencetak 3\n"
   ]
  },
  {
   "cell_type": "code",
   "execution_count": 9,
   "metadata": {},
   "outputs": [
    {
     "name": "stdout",
     "output_type": "stream",
     "text": [
      "True\n",
      "False\n"
     ]
    }
   ],
   "source": [
    "#Nomor 7\n",
    "def apakah_prima(n):\n",
    "    if n <= 1:\n",
    "        return False\n",
    "    for i in range(2, int(n**0.5) + 1):\n",
    "        if n % i == 0:\n",
    "            return False\n",
    "    return True\n",
    "\n",
    "# Uncomment untuk menguji fungsi apakah_prima\n",
    "print(apakah_prima(11))  # harus mencetak True\n",
    "print(apakah_prima(10))  # harus mencetak False\n"
   ]
  },
  {
   "cell_type": "code",
   "execution_count": 10,
   "metadata": {},
   "outputs": [
    {
     "name": "stdout",
     "output_type": "stream",
     "text": [
      "nohtyP\n",
      "ataK\n"
     ]
    }
   ],
   "source": [
    "#Nomor 9\n",
    "def balik_kata(kata):\n",
    "    return kata[::-1]\n",
    "\n",
    "# Uncomment untuk menguji fungsi balik_kata\n",
    "print(balik_kata(\"Python\"))  # harus mencetak \"nohtyP\"\n",
    "print(balik_kata(\"Kata\"))    # harus mencetak \"ataK\"\n"
   ]
  },
  {
   "cell_type": "code",
   "execution_count": 11,
   "metadata": {},
   "outputs": [
    {
     "name": "stdout",
     "output_type": "stream",
     "text": [
      "55\n",
      "15\n"
     ]
    }
   ],
   "source": [
    "#Nomor 11\n",
    "def kurangi_rekursif(angka):\n",
    "    if angka == 0:\n",
    "        return 0\n",
    "    else:\n",
    "        return angka + kurangi_rekursif(angka - 1)\n",
    "\n",
    "# Uncomment untuk menguji fungsi kurangi_rekursif\n",
    "print(kurangi_rekursif(10))  # harus mencetak 55\n",
    "print(kurangi_rekursif(5))   # harus mencetak 15\n"
   ]
  },
  {
   "cell_type": "code",
   "execution_count": 12,
   "metadata": {},
   "outputs": [
    {
     "name": "stdout",
     "output_type": "stream",
     "text": [
      "3.0\n",
      "20.0\n"
     ]
    }
   ],
   "source": [
    "#Nomor 13\n",
    "def cari_rata_rata(daftar_angka):\n",
    "    if len(daftar_angka) == 0:\n",
    "        return 0\n",
    "    else:\n",
    "        return sum(daftar_angka) / len(daftar_angka)\n",
    "\n",
    "# Uncomment untuk menguji fungsi cari_rata_rata\n",
    "print(cari_rata_rata([1, 2, 3, 4, 5]))  # harus mencetak 3.0\n",
    "print(cari_rata_rata([10, 20, 30]))      # harus mencetak 20.0\n"
   ]
  },
  {
   "cell_type": "code",
   "execution_count": 14,
   "metadata": {},
   "outputs": [
    {
     "name": "stdout",
     "output_type": "stream",
     "text": [
      "True\n",
      "False\n"
     ]
    }
   ],
   "source": [
    "#Nomor 15\n",
    "def cek_kelipatan(bilangan, kelipatan):\n",
    "    return bilangan % kelipatan == 0\n",
    "\n",
    "# Uncomment untuk menguji fungsi cek_kelipatan\n",
    "print(cek_kelipatan(10, 2))  # harus mencetak True\n",
    "print(cek_kelipatan(10, 3))  # harus mencetak False\n"
   ]
  },
  {
   "cell_type": "code",
   "execution_count": 15,
   "metadata": {},
   "outputs": [
    {
     "name": "stdout",
     "output_type": "stream",
     "text": [
      "[1, 2, 3]\n",
      "['apple', 'banana']\n"
     ]
    }
   ],
   "source": [
    "#Nomor 17\n",
    "def hapus_duplikat(daftar):\n",
    "    return list(set(daftar))\n",
    "\n",
    "# Uncomment untuk menguji fungsi hapus_duplikat\n",
    "print(hapus_duplikat([1, 2, 2, 3, 3, 3]))  # harus mencetak [1, 2, 3]\n",
    "print(hapus_duplikat([\"apple\", \"banana\", \"apple\"]))  # harus mencetak [\"apple\", \"banana\"]\n"
   ]
  },
  {
   "cell_type": "code",
   "execution_count": 16,
   "metadata": {},
   "outputs": [
    {
     "name": "stdout",
     "output_type": "stream",
     "text": [
      "17\n",
      "77\n"
     ]
    }
   ],
   "source": [
    "#Nomor 19\n",
    "def apakah_prima(angka):\n",
    "    if angka <= 1:\n",
    "        return False\n",
    "    for i in range(2, int(angka**0.5) + 1):\n",
    "        if angka % i == 0:\n",
    "            return False\n",
    "    return True\n",
    "\n",
    "def jumlahkan_prima(n):\n",
    "    total_prima = 0\n",
    "    for angka in range(2, n + 1):\n",
    "        if apakah_prima(angka):\n",
    "            total_prima += angka\n",
    "    return total_prima\n",
    "\n",
    "# Uncomment untuk menguji fungsi jumlahkan_prima\n",
    "print(jumlahkan_prima(10))  # harus mencetak jumlah dari semua bilangan prima hingga 10\n",
    "print(jumlahkan_prima(20))  # harus mencetak jumlah dari semua bilangan prima hingga 20\n"
   ]
  }
 ],
 "metadata": {
  "kernelspec": {
   "display_name": "Python 3",
   "language": "python",
   "name": "python3"
  },
  "language_info": {
   "codemirror_mode": {
    "name": "ipython",
    "version": 3
   },
   "file_extension": ".py",
   "mimetype": "text/x-python",
   "name": "python",
   "nbconvert_exporter": "python",
   "pygments_lexer": "ipython3",
   "version": "3.12.0"
  }
 },
 "nbformat": 4,
 "nbformat_minor": 2
}
